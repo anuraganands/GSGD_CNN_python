{
 "cells": [
  {
   "cell_type": "markdown",
   "metadata": {},
   "source": [
    "Contents of main.py"
   ]
  },
  {
   "cell_type": "code",
   "execution_count": 1,
   "metadata": {},
   "outputs": [],
   "source": [
    "import torch\n",
    "from torchvision import datasets, transforms\n",
    "from torch.utils.data import DataLoader\n",
    "from model import CNN_GSGD, GSGDOptimizer\n",
    "from train import train, test\n",
    "import os\n",
    "import torch.nn as nn\n",
    "from torch.utils.data import random_split"
   ]
  },
  {
   "cell_type": "markdown",
   "metadata": {},
   "source": [
    "# Data loading, model setup, and main training loop code here"
   ]
  },
  {
   "cell_type": "code",
   "execution_count": 2,
   "metadata": {},
   "outputs": [],
   "source": [
    "transform = transforms.Compose([\n",
    "    transforms.ToTensor(),\n",
    "    transforms.Normalize((0.1307,), (0.3081,))\n",
    "])"
   ]
  },
  {
   "cell_type": "code",
   "execution_count": 3,
   "metadata": {},
   "outputs": [],
   "source": [
    "# Define the path where the data should be stored\n",
    "data_path = './data'\n",
    "\n",
    "# Check if the data directory exists\n",
    "download_data = not os.path.exists(os.path.join(data_path, 'MNIST'))\n",
    "\n",
    "# Define the transform\n",
    "transform = transforms.Compose([\n",
    "    transforms.ToTensor(),\n",
    "    transforms.Normalize((0.1307,), (0.3081,))\n",
    "])\n",
    "\n",
    "# Load the datasets, only downloading if necessary\n",
    "train_dataset = datasets.MNIST(data_path, train=True, download=download_data, transform=transform)\n",
    "test_dataset = datasets.MNIST(data_path, train=False, download=download_data, transform=transform)\n"
   ]
  },
  {
   "cell_type": "code",
   "execution_count": 4,
   "metadata": {},
   "outputs": [],
   "source": [
    "# Split the train_dataset into training and validation datasets\n",
    "train_size = int(0.8 * len(train_dataset))  # 80% for training\n",
    "validation_size = len(train_dataset) - train_size  # Remaining 20% for validation\n",
    "train_dataset, validation_dataset = random_split(train_dataset, [train_size, validation_size])"
   ]
  },
  {
   "cell_type": "code",
   "execution_count": 5,
   "metadata": {},
   "outputs": [],
   "source": [
    "train_loader = DataLoader(train_dataset, batch_size=64, shuffle=True)\n",
    "test_loader = DataLoader(test_dataset, batch_size=1000, shuffle=False)\n",
    "validation_loader = DataLoader(validation_dataset, batch_size=64, shuffle=False)  "
   ]
  },
  {
   "cell_type": "code",
   "execution_count": 6,
   "metadata": {},
   "outputs": [],
   "source": [
    "device = torch.device(\"cuda\" if torch.cuda.is_available() else \"cpu\")\n",
    "model = CNN_GSGD().to(device)\n",
    "# For Standard Guided SGD\n",
    "# optimizer = GSGDOptimizer(model.parameters(), lr=0.01, method='sgd')\n",
    "\n",
    "# For Guided SGD with Momentum\n",
    "optimizer = GSGDOptimizer(model.parameters(), lr=0.01, method='momentum', momentum=0.9)\n",
    "\n",
    "# For Guided Adam\n",
    "# optimizer = GSGDOptimizer(model.parameters(), lr=0.001, method='adam', beta1=0.9, beta2=0.999)\n",
    "\n"
   ]
  },
  {
   "cell_type": "code",
   "execution_count": 10,
   "metadata": {},
   "outputs": [
    {
     "name": "stdout",
     "output_type": "stream",
     "text": [
      "Epoch: 1, Iteration: 1, Loss: 0.016474\n",
      "Epoch: 1, Iteration: 101, Loss: 0.008952\n",
      "Epoch: 1, Iteration: 201, Loss: 0.009342\n",
      "Epoch: 1, Iteration: 301, Loss: 0.001544\n",
      "Epoch: 1, Iteration: 401, Loss: 0.004520\n",
      "Epoch: 1, Iteration: 501, Loss: 0.005254\n",
      "Epoch: 1, Iteration: 601, Loss: 0.034630\n",
      "Epoch: 1, Iteration: 701, Loss: 0.004891\n",
      "\n",
      "Test set: Average loss: 0.0000, Accuracy: 9910/10000 (99%)\n",
      "\n",
      "Epoch: 2, Iteration: 1, Loss: 0.002105\n",
      "Epoch: 2, Iteration: 101, Loss: 0.000875\n",
      "Epoch: 2, Iteration: 201, Loss: 0.030991\n",
      "Epoch: 2, Iteration: 301, Loss: 0.101624\n",
      "Epoch: 2, Iteration: 401, Loss: 0.006409\n",
      "Epoch: 2, Iteration: 501, Loss: 0.000988\n",
      "Epoch: 2, Iteration: 601, Loss: 0.009548\n",
      "Epoch: 2, Iteration: 701, Loss: 0.000765\n",
      "\n",
      "Test set: Average loss: 0.0000, Accuracy: 9908/10000 (99%)\n",
      "\n",
      "Epoch: 3, Iteration: 1, Loss: 0.007994\n",
      "Epoch: 3, Iteration: 101, Loss: 0.001677\n",
      "Epoch: 3, Iteration: 201, Loss: 0.013523\n",
      "Epoch: 3, Iteration: 301, Loss: 0.011326\n",
      "Epoch: 3, Iteration: 401, Loss: 0.054506\n",
      "Epoch: 3, Iteration: 501, Loss: 0.063906\n",
      "Epoch: 3, Iteration: 601, Loss: 0.000761\n",
      "Epoch: 3, Iteration: 701, Loss: 0.031646\n",
      "\n",
      "Test set: Average loss: 0.0000, Accuracy: 9923/10000 (99%)\n",
      "\n",
      "Epoch: 4, Iteration: 1, Loss: 0.002599\n",
      "Epoch: 4, Iteration: 101, Loss: 0.004276\n",
      "Epoch: 4, Iteration: 201, Loss: 0.005889\n",
      "Epoch: 4, Iteration: 301, Loss: 0.001796\n",
      "Epoch: 4, Iteration: 401, Loss: 0.013111\n",
      "Epoch: 4, Iteration: 501, Loss: 0.016100\n",
      "Epoch: 4, Iteration: 601, Loss: 0.007277\n",
      "Epoch: 4, Iteration: 701, Loss: 0.000402\n",
      "\n",
      "Test set: Average loss: 0.0000, Accuracy: 9909/10000 (99%)\n",
      "\n"
     ]
    }
   ],
   "source": [
    "# Define the loss function\n",
    "loss_fn = nn.CrossEntropyLoss()\n",
    "\n",
    "# Run training for each epoch, passing the dataset instead of DataLoader\n",
    "for epoch in range(1, 5):\n",
    "    train(model, device, train_loader.dataset, validation_loader.dataset, optimizer, epoch, loss_fn, \n",
    "      verification_set_num=4, rho=10, log_interval=99)\n",
    "    # train(model, device, train_loader.dataset, optimizer, epoch, loss_fn)  # Pass train_loader.dataset\n",
    "    test(model, device, test_loader)\n",
    "\n"
   ]
  },
  {
   "cell_type": "code",
   "execution_count": null,
   "metadata": {},
   "outputs": [],
   "source": []
  }
 ],
 "metadata": {
  "kernelspec": {
   "display_name": "Python 3 (ipykernel)",
   "language": "python",
   "name": "python3"
  },
  "language_info": {
   "codemirror_mode": {
    "name": "ipython",
    "version": 3
   },
   "file_extension": ".py",
   "mimetype": "text/x-python",
   "name": "python",
   "nbconvert_exporter": "python",
   "pygments_lexer": "ipython3",
   "version": "3.10.12"
  }
 },
 "nbformat": 4,
 "nbformat_minor": 4
}
